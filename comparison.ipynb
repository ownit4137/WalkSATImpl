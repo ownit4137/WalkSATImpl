{
 "cells": [
  {
   "cell_type": "code",
   "execution_count": 6,
   "metadata": {},
   "outputs": [
    {
     "name": "stdout",
     "output_type": "stream",
     "text": [
      "5sat500.train/unif-k5-r20.00-v500-c10000-S1779740804.cnf\n",
      "TRY-1\n",
      "FLIP-0 UCB size: 312\n",
      "FLIP-10000000 UCB size: 13\n",
      "FLIP-20000000 UCB size: 2\n",
      "541: 5 | 8033: 5 | \n",
      "FLIP-30000000 UCB size: 8\n",
      "2135: 5 | 4710: 5 | 5448: 5 | 5830: 5 | 6081: 5 | 6286: 5 | 6638: 5 | 9618: 5 | \n",
      "^C\n",
      "Command terminated by signal 2\n",
      "449.40user 0.00system 7:29.48elapsed 99%CPU (0avgtext+0avgdata 4992maxresident)k\n",
      "0inputs+0outputs (0major+542minor)pagefaults 0swaps\n"
     ]
    }
   ],
   "source": [
    "!time ./WalkSATImpl/src/test.out 5sat500.train/unif-k5-r20.00-v500-c10000-S1779740804.cnf"
   ]
  },
  {
   "cell_type": "code",
   "execution_count": 5,
   "metadata": {},
   "outputs": [
    {
     "name": "stdout",
     "output_type": "stream",
     "text": [
      "^C\r\n"
     ]
    }
   ],
   "source": [
    "!kissat/build/kissat -q 5sat500.train/unif-k5-r20.00-v500-c10000-S1779740804.cnf"
   ]
  },
  {
   "cell_type": "code",
   "execution_count": 2,
   "metadata": {},
   "outputs": [],
   "source": [
    "import os\n",
    "import subprocess\n",
    "import time\n",
    "from random import randint\n",
    "from subprocess import Popen, PIPE\n",
    "walksat = \"./WalkSATImpl/src/test.out\"\n",
    "kissat = \"./kissat/build/kissat\"\n",
    "\n",
    "files = os.listdir('5sat500.train/')"
   ]
  },
  {
   "cell_type": "code",
   "execution_count": 2,
   "metadata": {},
   "outputs": [
    {
     "name": "stdout",
     "output_type": "stream",
     "text": [
      "5sat500.train/unif-k5-r20.00-v500-c10000-S1226328990.cnf\n",
      "walksat 135.2836537361145\n",
      "kissat 291.3227298259735\n",
      "5sat500.train/unif-k5-r20.00-v500-c10000-S1676897475.cnf\n",
      "walksat 1027.9274907112122\n",
      "kissat 72.43164443969727\n",
      "5sat500.train/unif-k5-r20.00-v500-c10000-S19207720.cnf\n",
      "walksat 40.11639642715454\n",
      "kissat 114.02738547325134\n",
      "5sat500.train/unif-k5-r20.00-v500-c10000-S587287113.cnf\n",
      "walksat 752.1203601360321\n",
      "kissat 42.478204011917114\n",
      "5sat500.train/unif-k5-r20.00-v500-c10000-S620724736.cnf\n",
      "walksat 85.51021337509155\n",
      "kissat 22.52313256263733\n",
      "5sat500.train/unif-k5-r20.00-v500-c10000-S2092476327.cnf\n",
      "walksat 870.7825002670288\n",
      "kissat 385.50811195373535\n",
      "5sat500.train/unif-k5-r20.00-v500-c10000-S1830480372.cnf\n",
      "walksat 421.8612835407257\n",
      "kissat 216.72274804115295\n",
      "5sat500.train/unif-k5-r20.00-v500-c10000-S1319064376.cnf\n",
      "walksat 1453.6591601371765\n",
      "kissat 375.26346921920776\n",
      "5sat500.train/unif-k5-r20.00-v500-c10000-S100988540.cnf\n",
      "walksat 17.79433512687683\n",
      "kissat 75.66774606704712\n",
      "5sat500.train/unif-k5-r20.00-v500-c10000-S1444884316.cnf\n",
      "walksat 2530.756570339203\n",
      "kissat 103.21324682235718\n",
      "5sat500.train/unif-k5-r20.00-v500-c10000-S1642594754.cnf\n",
      "walksat 14.633476495742798\n",
      "kissat 103.67579746246338\n",
      "5sat500.train/unif-k5-r20.00-v500-c10000-S100988540.cnf\n",
      "walksat 120.95869898796082\n",
      "kissat 74.92219758033752\n",
      "5sat500.train/unif-k5-r20.00-v500-c10000-S1817965120.cnf\n",
      "walksat 1513.0383894443512\n",
      "kissat 44.64189004898071\n",
      "5sat500.train/unif-k5-r20.00-v500-c10000-S808495418.cnf\n",
      "walksat 51.634573459625244\n",
      "kissat 45.87951898574829\n",
      "5sat500.train/unif-k5-r20.00-v500-c10000-S1916700136.cnf\n",
      "walksat 2595.7830622196198\n",
      "kissat 724.8345746994019\n",
      "5sat500.train/unif-k5-r20.00-v500-c10000-S1403962176.cnf\n",
      "walksat 102.87984013557434\n",
      "kissat 10.433216094970703\n",
      "5sat500.train/unif-k5-r20.00-v500-c10000-S135851854.cnf\n"
     ]
    },
    {
     "ename": "KeyboardInterrupt",
     "evalue": "",
     "output_type": "error",
     "traceback": [
      "\u001b[0;31m---------------------------------------------------------------------------\u001b[0m",
      "\u001b[0;31mKeyboardInterrupt\u001b[0m                         Traceback (most recent call last)",
      "\u001b[0;32m<ipython-input-2-d2250ad2f326>\u001b[0m in \u001b[0;36m<module>\u001b[0;34m()\u001b[0m\n\u001b[1;32m      9\u001b[0m     \u001b[0mprint\u001b[0m\u001b[0;34m(\u001b[0m\u001b[0mfn\u001b[0m\u001b[0;34m)\u001b[0m\u001b[0;34m\u001b[0m\u001b[0;34m\u001b[0m\u001b[0m\n\u001b[1;32m     10\u001b[0m     \u001b[0mstart\u001b[0m \u001b[0;34m=\u001b[0m \u001b[0mtime\u001b[0m\u001b[0;34m.\u001b[0m\u001b[0mtime\u001b[0m\u001b[0;34m(\u001b[0m\u001b[0;34m)\u001b[0m\u001b[0;34m\u001b[0m\u001b[0;34m\u001b[0m\u001b[0m\n\u001b[0;32m---> 11\u001b[0;31m     \u001b[0msubprocess\u001b[0m\u001b[0;34m.\u001b[0m\u001b[0mrun\u001b[0m\u001b[0;34m(\u001b[0m\u001b[0;34m[\u001b[0m\u001b[0mwalksat\u001b[0m\u001b[0;34m,\u001b[0m \u001b[0mfn\u001b[0m\u001b[0;34m]\u001b[0m\u001b[0;34m)\u001b[0m\u001b[0;34m\u001b[0m\u001b[0;34m\u001b[0m\u001b[0m\n\u001b[0m\u001b[1;32m     12\u001b[0m     \u001b[0mresw\u001b[0m\u001b[0;34m.\u001b[0m\u001b[0mappend\u001b[0m\u001b[0;34m(\u001b[0m\u001b[0mtime\u001b[0m\u001b[0;34m.\u001b[0m\u001b[0mtime\u001b[0m\u001b[0;34m(\u001b[0m\u001b[0;34m)\u001b[0m \u001b[0;34m-\u001b[0m \u001b[0mstart\u001b[0m\u001b[0;34m)\u001b[0m\u001b[0;34m\u001b[0m\u001b[0;34m\u001b[0m\u001b[0m\n\u001b[1;32m     13\u001b[0m     \u001b[0mprint\u001b[0m\u001b[0;34m(\u001b[0m\u001b[0;34m'walksat'\u001b[0m\u001b[0;34m,\u001b[0m \u001b[0mtime\u001b[0m\u001b[0;34m.\u001b[0m\u001b[0mtime\u001b[0m\u001b[0;34m(\u001b[0m\u001b[0;34m)\u001b[0m \u001b[0;34m-\u001b[0m \u001b[0mstart\u001b[0m\u001b[0;34m)\u001b[0m\u001b[0;34m\u001b[0m\u001b[0;34m\u001b[0m\u001b[0m\n",
      "\u001b[0;32m/usr/lib/python3.6/subprocess.py\u001b[0m in \u001b[0;36mrun\u001b[0;34m(input, timeout, check, *popenargs, **kwargs)\u001b[0m\n\u001b[1;32m    423\u001b[0m     \u001b[0;32mwith\u001b[0m \u001b[0mPopen\u001b[0m\u001b[0;34m(\u001b[0m\u001b[0;34m*\u001b[0m\u001b[0mpopenargs\u001b[0m\u001b[0;34m,\u001b[0m \u001b[0;34m**\u001b[0m\u001b[0mkwargs\u001b[0m\u001b[0;34m)\u001b[0m \u001b[0;32mas\u001b[0m \u001b[0mprocess\u001b[0m\u001b[0;34m:\u001b[0m\u001b[0;34m\u001b[0m\u001b[0;34m\u001b[0m\u001b[0m\n\u001b[1;32m    424\u001b[0m         \u001b[0;32mtry\u001b[0m\u001b[0;34m:\u001b[0m\u001b[0;34m\u001b[0m\u001b[0;34m\u001b[0m\u001b[0m\n\u001b[0;32m--> 425\u001b[0;31m             \u001b[0mstdout\u001b[0m\u001b[0;34m,\u001b[0m \u001b[0mstderr\u001b[0m \u001b[0;34m=\u001b[0m \u001b[0mprocess\u001b[0m\u001b[0;34m.\u001b[0m\u001b[0mcommunicate\u001b[0m\u001b[0;34m(\u001b[0m\u001b[0minput\u001b[0m\u001b[0;34m,\u001b[0m \u001b[0mtimeout\u001b[0m\u001b[0;34m=\u001b[0m\u001b[0mtimeout\u001b[0m\u001b[0;34m)\u001b[0m\u001b[0;34m\u001b[0m\u001b[0;34m\u001b[0m\u001b[0m\n\u001b[0m\u001b[1;32m    426\u001b[0m         \u001b[0;32mexcept\u001b[0m \u001b[0mTimeoutExpired\u001b[0m\u001b[0;34m:\u001b[0m\u001b[0;34m\u001b[0m\u001b[0;34m\u001b[0m\u001b[0m\n\u001b[1;32m    427\u001b[0m             \u001b[0mprocess\u001b[0m\u001b[0;34m.\u001b[0m\u001b[0mkill\u001b[0m\u001b[0;34m(\u001b[0m\u001b[0;34m)\u001b[0m\u001b[0;34m\u001b[0m\u001b[0;34m\u001b[0m\u001b[0m\n",
      "\u001b[0;32m/usr/lib/python3.6/subprocess.py\u001b[0m in \u001b[0;36mcommunicate\u001b[0;34m(self, input, timeout)\u001b[0m\n\u001b[1;32m    853\u001b[0m                 \u001b[0mstderr\u001b[0m \u001b[0;34m=\u001b[0m \u001b[0mself\u001b[0m\u001b[0;34m.\u001b[0m\u001b[0mstderr\u001b[0m\u001b[0;34m.\u001b[0m\u001b[0mread\u001b[0m\u001b[0;34m(\u001b[0m\u001b[0;34m)\u001b[0m\u001b[0;34m\u001b[0m\u001b[0;34m\u001b[0m\u001b[0m\n\u001b[1;32m    854\u001b[0m                 \u001b[0mself\u001b[0m\u001b[0;34m.\u001b[0m\u001b[0mstderr\u001b[0m\u001b[0;34m.\u001b[0m\u001b[0mclose\u001b[0m\u001b[0;34m(\u001b[0m\u001b[0;34m)\u001b[0m\u001b[0;34m\u001b[0m\u001b[0;34m\u001b[0m\u001b[0m\n\u001b[0;32m--> 855\u001b[0;31m             \u001b[0mself\u001b[0m\u001b[0;34m.\u001b[0m\u001b[0mwait\u001b[0m\u001b[0;34m(\u001b[0m\u001b[0;34m)\u001b[0m\u001b[0;34m\u001b[0m\u001b[0;34m\u001b[0m\u001b[0m\n\u001b[0m\u001b[1;32m    856\u001b[0m         \u001b[0;32melse\u001b[0m\u001b[0;34m:\u001b[0m\u001b[0;34m\u001b[0m\u001b[0;34m\u001b[0m\u001b[0m\n\u001b[1;32m    857\u001b[0m             \u001b[0;32mif\u001b[0m \u001b[0mtimeout\u001b[0m \u001b[0;32mis\u001b[0m \u001b[0;32mnot\u001b[0m \u001b[0;32mNone\u001b[0m\u001b[0;34m:\u001b[0m\u001b[0;34m\u001b[0m\u001b[0;34m\u001b[0m\u001b[0m\n",
      "\u001b[0;32m/usr/lib/python3.6/subprocess.py\u001b[0m in \u001b[0;36mwait\u001b[0;34m(self, timeout, endtime)\u001b[0m\n\u001b[1;32m   1475\u001b[0m                         \u001b[0;32mif\u001b[0m \u001b[0mself\u001b[0m\u001b[0;34m.\u001b[0m\u001b[0mreturncode\u001b[0m \u001b[0;32mis\u001b[0m \u001b[0;32mnot\u001b[0m \u001b[0;32mNone\u001b[0m\u001b[0;34m:\u001b[0m\u001b[0;34m\u001b[0m\u001b[0;34m\u001b[0m\u001b[0m\n\u001b[1;32m   1476\u001b[0m                             \u001b[0;32mbreak\u001b[0m  \u001b[0;31m# Another thread waited.\u001b[0m\u001b[0;34m\u001b[0m\u001b[0;34m\u001b[0m\u001b[0m\n\u001b[0;32m-> 1477\u001b[0;31m                         \u001b[0;34m(\u001b[0m\u001b[0mpid\u001b[0m\u001b[0;34m,\u001b[0m \u001b[0msts\u001b[0m\u001b[0;34m)\u001b[0m \u001b[0;34m=\u001b[0m \u001b[0mself\u001b[0m\u001b[0;34m.\u001b[0m\u001b[0m_try_wait\u001b[0m\u001b[0;34m(\u001b[0m\u001b[0;36m0\u001b[0m\u001b[0;34m)\u001b[0m\u001b[0;34m\u001b[0m\u001b[0;34m\u001b[0m\u001b[0m\n\u001b[0m\u001b[1;32m   1478\u001b[0m                         \u001b[0;31m# Check the pid and loop as waitpid has been known to\u001b[0m\u001b[0;34m\u001b[0m\u001b[0;34m\u001b[0m\u001b[0;34m\u001b[0m\u001b[0m\n\u001b[1;32m   1479\u001b[0m                         \u001b[0;31m# return 0 even without WNOHANG in odd situations.\u001b[0m\u001b[0;34m\u001b[0m\u001b[0;34m\u001b[0m\u001b[0;34m\u001b[0m\u001b[0m\n",
      "\u001b[0;32m/usr/lib/python3.6/subprocess.py\u001b[0m in \u001b[0;36m_try_wait\u001b[0;34m(self, wait_flags)\u001b[0m\n\u001b[1;32m   1422\u001b[0m             \u001b[0;34m\"\"\"All callers to this function MUST hold self._waitpid_lock.\"\"\"\u001b[0m\u001b[0;34m\u001b[0m\u001b[0;34m\u001b[0m\u001b[0m\n\u001b[1;32m   1423\u001b[0m             \u001b[0;32mtry\u001b[0m\u001b[0;34m:\u001b[0m\u001b[0;34m\u001b[0m\u001b[0;34m\u001b[0m\u001b[0m\n\u001b[0;32m-> 1424\u001b[0;31m                 \u001b[0;34m(\u001b[0m\u001b[0mpid\u001b[0m\u001b[0;34m,\u001b[0m \u001b[0msts\u001b[0m\u001b[0;34m)\u001b[0m \u001b[0;34m=\u001b[0m \u001b[0mos\u001b[0m\u001b[0;34m.\u001b[0m\u001b[0mwaitpid\u001b[0m\u001b[0;34m(\u001b[0m\u001b[0mself\u001b[0m\u001b[0;34m.\u001b[0m\u001b[0mpid\u001b[0m\u001b[0;34m,\u001b[0m \u001b[0mwait_flags\u001b[0m\u001b[0;34m)\u001b[0m\u001b[0;34m\u001b[0m\u001b[0;34m\u001b[0m\u001b[0m\n\u001b[0m\u001b[1;32m   1425\u001b[0m             \u001b[0;32mexcept\u001b[0m \u001b[0mChildProcessError\u001b[0m\u001b[0;34m:\u001b[0m\u001b[0;34m\u001b[0m\u001b[0;34m\u001b[0m\u001b[0m\n\u001b[1;32m   1426\u001b[0m                 \u001b[0;31m# This happens if SIGCLD is set to be ignored or waiting\u001b[0m\u001b[0;34m\u001b[0m\u001b[0;34m\u001b[0m\u001b[0;34m\u001b[0m\u001b[0m\n",
      "\u001b[0;31mKeyboardInterrupt\u001b[0m: "
     ]
    }
   ],
   "source": [
    "resfn = []\n",
    "resw = []\n",
    "resk = []\n",
    "\n",
    "for i in range(20):\n",
    "    fn = files[randint(0, len(files))]\n",
    "    resfn.append(fn)\n",
    "    fn = '5sat500.train/' + fn\n",
    "    print(fn)\n",
    "    start = time.time()\n",
    "    subprocess.run([walksat, fn])\n",
    "    resw.append(time.time() - start)\n",
    "    print('walksat', time.time() - start)\n",
    "    start = time.time()\n",
    "    subprocess.run([kissat, '-q', fn])\n",
    "    resk.append(time.time() - start)\n",
    "    print('kissat', time.time() - start)"
   ]
  },
  {
   "cell_type": "code",
   "execution_count": 3,
   "metadata": {},
   "outputs": [
    {
     "name": "stdout",
     "output_type": "stream",
     "text": [
      "['unif-k5-r20.00-v500-c10000-S1226328990.cnf', 'unif-k5-r20.00-v500-c10000-S1676897475.cnf', 'unif-k5-r20.00-v500-c10000-S19207720.cnf', 'unif-k5-r20.00-v500-c10000-S587287113.cnf', 'unif-k5-r20.00-v500-c10000-S620724736.cnf', 'unif-k5-r20.00-v500-c10000-S2092476327.cnf', 'unif-k5-r20.00-v500-c10000-S1830480372.cnf', 'unif-k5-r20.00-v500-c10000-S1319064376.cnf', 'unif-k5-r20.00-v500-c10000-S100988540.cnf', 'unif-k5-r20.00-v500-c10000-S1444884316.cnf', 'unif-k5-r20.00-v500-c10000-S1642594754.cnf', 'unif-k5-r20.00-v500-c10000-S100988540.cnf', 'unif-k5-r20.00-v500-c10000-S1817965120.cnf', 'unif-k5-r20.00-v500-c10000-S808495418.cnf', 'unif-k5-r20.00-v500-c10000-S1916700136.cnf', 'unif-k5-r20.00-v500-c10000-S1403962176.cnf', 'unif-k5-r20.00-v500-c10000-S135851854.cnf']\n",
      "[135.28365206718445, 1027.9274883270264, 40.116394996643066, 752.120358467102, 85.51021122932434, 870.782497882843, 421.8612811565399, 1453.6591584682465, 17.7943332195282, 2530.756567955017, 14.633474349975586, 120.95869731903076, 1513.0383882522583, 51.63457155227661, 2595.783060312271, 102.87983655929565]\n",
      "[291.3227279186249, 72.43164277076721, 114.02738380432129, 42.47820258140564, 22.523130178451538, 385.5081100463867, 216.72274589538574, 375.26346731185913, 75.66774439811707, 103.21324515342712, 103.67579627037048, 74.92219543457031, 44.64188861846924, 45.87951731681824, 724.8345727920532, 10.433214664459229]\n"
     ]
    }
   ],
   "source": [
    "print(resfn)\n",
    "print(resw)\n",
    "print(resk)"
   ]
  },
  {
   "cell_type": "code",
   "execution_count": 21,
   "metadata": {},
   "outputs": [
    {
     "data": {
      "text/plain": [
       "['S1226328990',\n",
       " 'S1676897475',\n",
       " 'S19207720',\n",
       " 'S587287113',\n",
       " 'S620724736',\n",
       " 'S2092476327',\n",
       " 'S1830480372',\n",
       " 'S1319064376',\n",
       " 'S100988540',\n",
       " 'S1444884316',\n",
       " 'S1642594754',\n",
       " 'S100988540',\n",
       " 'S1817965120',\n",
       " 'S808495418',\n",
       " 'S1916700136',\n",
       " 'S1403962176']"
      ]
     },
     "execution_count": 21,
     "metadata": {},
     "output_type": "execute_result"
    }
   ],
   "source": [
    "resfn = ['unif-k5-r20.00-v500-c10000-S1226328990.cnf', 'unif-k5-r20.00-v500-c10000-S1676897475.cnf', 'unif-k5-r20.00-v500-c10000-S19207720.cnf', 'unif-k5-r20.00-v500-c10000-S587287113.cnf', 'unif-k5-r20.00-v500-c10000-S620724736.cnf', 'unif-k5-r20.00-v500-c10000-S2092476327.cnf', 'unif-k5-r20.00-v500-c10000-S1830480372.cnf', 'unif-k5-r20.00-v500-c10000-S1319064376.cnf', 'unif-k5-r20.00-v500-c10000-S100988540.cnf', 'unif-k5-r20.00-v500-c10000-S1444884316.cnf', 'unif-k5-r20.00-v500-c10000-S1642594754.cnf', 'unif-k5-r20.00-v500-c10000-S100988540.cnf', 'unif-k5-r20.00-v500-c10000-S1817965120.cnf', 'unif-k5-r20.00-v500-c10000-S808495418.cnf', 'unif-k5-r20.00-v500-c10000-S1916700136.cnf', 'unif-k5-r20.00-v500-c10000-S1403962176.cnf']\n",
    "resw = [135.28365206718445, 1027.9274883270264, 40.116394996643066, 752.120358467102, 85.51021122932434, 870.782497882843, 421.8612811565399, 1453.6591584682465, 17.7943332195282, 2530.756567955017, 14.633474349975586, 120.95869731903076, 1513.0383882522583, 51.63457155227661, 2595.783060312271, 102.87983655929565]\n",
    "resk = [291.3227279186249, 72.43164277076721, 114.02738380432129, 42.47820258140564, 22.523130178451538, 385.5081100463867, 216.72274589538574, 375.26346731185913, 75.66774439811707, 103.21324515342712, 103.67579627037048, 74.92219543457031, 44.64188861846924, 45.87951731681824, 724.8345727920532, 10.433214664459229]\n",
    "newresfn = []\n",
    "for i in resfn:\n",
    "    newresfn.append(i[27:-4])\n",
    "newresfn"
   ]
  },
  {
   "cell_type": "code",
   "execution_count": 15,
   "metadata": {},
   "outputs": [
    {
     "data": {
      "text/plain": [
       "<Figure size 1000x1000 with 1 Axes>"
      ]
     },
     "metadata": {},
     "output_type": "display_data"
    }
   ],
   "source": [
    "import matplotlib.pyplot as plt\n",
    "\n",
    "plt.figure(figsize=(10,10))\n",
    "plt.plot(newresfn, resw, 'ro', label='walksat')\n",
    "plt.plot(newresfn, resk, 'bo', label='kissat')\n",
    "plt.xticks(rotation=90)\n",
    "plt.legend(prop={'size': 20})\n",
    "plt.title('Elapsed time(s) at each 5SAT-500 instance')\n",
    "plt.show()"
   ]
  },
  {
   "cell_type": "code",
   "execution_count": 4,
   "metadata": {},
   "outputs": [
    {
     "name": "stdout",
     "output_type": "stream",
     "text": [
      "7sat90.train/unif-k7-r85.00-v90-c7650-S1797569780.cnf\n"
     ]
    },
    {
     "ename": "KeyboardInterrupt",
     "evalue": "",
     "output_type": "error",
     "traceback": [
      "\u001b[0;31m---------------------------------------------------------------------------\u001b[0m",
      "\u001b[0;31mKeyboardInterrupt\u001b[0m                         Traceback (most recent call last)",
      "\u001b[0;32m<ipython-input-4-f7bc20fb5ffb>\u001b[0m in \u001b[0;36m<module>\u001b[0;34m()\u001b[0m\n\u001b[1;32m     11\u001b[0m     \u001b[0mprint\u001b[0m\u001b[0;34m(\u001b[0m\u001b[0mfn\u001b[0m\u001b[0;34m)\u001b[0m\u001b[0;34m\u001b[0m\u001b[0;34m\u001b[0m\u001b[0m\n\u001b[1;32m     12\u001b[0m     \u001b[0mstart\u001b[0m \u001b[0;34m=\u001b[0m \u001b[0mtime\u001b[0m\u001b[0;34m.\u001b[0m\u001b[0mtime\u001b[0m\u001b[0;34m(\u001b[0m\u001b[0;34m)\u001b[0m\u001b[0;34m\u001b[0m\u001b[0;34m\u001b[0m\u001b[0m\n\u001b[0;32m---> 13\u001b[0;31m     \u001b[0msubprocess\u001b[0m\u001b[0;34m.\u001b[0m\u001b[0mrun\u001b[0m\u001b[0;34m(\u001b[0m\u001b[0;34m[\u001b[0m\u001b[0mkissat\u001b[0m\u001b[0;34m,\u001b[0m \u001b[0;34m'-q'\u001b[0m\u001b[0;34m,\u001b[0m \u001b[0mfn\u001b[0m\u001b[0;34m]\u001b[0m\u001b[0;34m)\u001b[0m\u001b[0;34m\u001b[0m\u001b[0;34m\u001b[0m\u001b[0m\n\u001b[0m\u001b[1;32m     14\u001b[0m     \u001b[0mresk7\u001b[0m\u001b[0;34m.\u001b[0m\u001b[0mappend\u001b[0m\u001b[0;34m(\u001b[0m\u001b[0mtime\u001b[0m\u001b[0;34m.\u001b[0m\u001b[0mtime\u001b[0m\u001b[0;34m(\u001b[0m\u001b[0;34m)\u001b[0m \u001b[0;34m-\u001b[0m \u001b[0mstart\u001b[0m\u001b[0;34m)\u001b[0m\u001b[0;34m\u001b[0m\u001b[0;34m\u001b[0m\u001b[0m\n\u001b[1;32m     15\u001b[0m     \u001b[0mprint\u001b[0m\u001b[0;34m(\u001b[0m\u001b[0;34m'kissat'\u001b[0m\u001b[0;34m,\u001b[0m \u001b[0mtime\u001b[0m\u001b[0;34m.\u001b[0m\u001b[0mtime\u001b[0m\u001b[0;34m(\u001b[0m\u001b[0;34m)\u001b[0m \u001b[0;34m-\u001b[0m \u001b[0mstart\u001b[0m\u001b[0;34m)\u001b[0m\u001b[0;34m\u001b[0m\u001b[0;34m\u001b[0m\u001b[0m\n",
      "\u001b[0;32m/usr/lib/python3.6/subprocess.py\u001b[0m in \u001b[0;36mrun\u001b[0;34m(input, timeout, check, *popenargs, **kwargs)\u001b[0m\n\u001b[1;32m    423\u001b[0m     \u001b[0;32mwith\u001b[0m \u001b[0mPopen\u001b[0m\u001b[0;34m(\u001b[0m\u001b[0;34m*\u001b[0m\u001b[0mpopenargs\u001b[0m\u001b[0;34m,\u001b[0m \u001b[0;34m**\u001b[0m\u001b[0mkwargs\u001b[0m\u001b[0;34m)\u001b[0m \u001b[0;32mas\u001b[0m \u001b[0mprocess\u001b[0m\u001b[0;34m:\u001b[0m\u001b[0;34m\u001b[0m\u001b[0;34m\u001b[0m\u001b[0m\n\u001b[1;32m    424\u001b[0m         \u001b[0;32mtry\u001b[0m\u001b[0;34m:\u001b[0m\u001b[0;34m\u001b[0m\u001b[0;34m\u001b[0m\u001b[0m\n\u001b[0;32m--> 425\u001b[0;31m             \u001b[0mstdout\u001b[0m\u001b[0;34m,\u001b[0m \u001b[0mstderr\u001b[0m \u001b[0;34m=\u001b[0m \u001b[0mprocess\u001b[0m\u001b[0;34m.\u001b[0m\u001b[0mcommunicate\u001b[0m\u001b[0;34m(\u001b[0m\u001b[0minput\u001b[0m\u001b[0;34m,\u001b[0m \u001b[0mtimeout\u001b[0m\u001b[0;34m=\u001b[0m\u001b[0mtimeout\u001b[0m\u001b[0;34m)\u001b[0m\u001b[0;34m\u001b[0m\u001b[0;34m\u001b[0m\u001b[0m\n\u001b[0m\u001b[1;32m    426\u001b[0m         \u001b[0;32mexcept\u001b[0m \u001b[0mTimeoutExpired\u001b[0m\u001b[0;34m:\u001b[0m\u001b[0;34m\u001b[0m\u001b[0;34m\u001b[0m\u001b[0m\n\u001b[1;32m    427\u001b[0m             \u001b[0mprocess\u001b[0m\u001b[0;34m.\u001b[0m\u001b[0mkill\u001b[0m\u001b[0;34m(\u001b[0m\u001b[0;34m)\u001b[0m\u001b[0;34m\u001b[0m\u001b[0;34m\u001b[0m\u001b[0m\n",
      "\u001b[0;32m/usr/lib/python3.6/subprocess.py\u001b[0m in \u001b[0;36mcommunicate\u001b[0;34m(self, input, timeout)\u001b[0m\n\u001b[1;32m    853\u001b[0m                 \u001b[0mstderr\u001b[0m \u001b[0;34m=\u001b[0m \u001b[0mself\u001b[0m\u001b[0;34m.\u001b[0m\u001b[0mstderr\u001b[0m\u001b[0;34m.\u001b[0m\u001b[0mread\u001b[0m\u001b[0;34m(\u001b[0m\u001b[0;34m)\u001b[0m\u001b[0;34m\u001b[0m\u001b[0;34m\u001b[0m\u001b[0m\n\u001b[1;32m    854\u001b[0m                 \u001b[0mself\u001b[0m\u001b[0;34m.\u001b[0m\u001b[0mstderr\u001b[0m\u001b[0;34m.\u001b[0m\u001b[0mclose\u001b[0m\u001b[0;34m(\u001b[0m\u001b[0;34m)\u001b[0m\u001b[0;34m\u001b[0m\u001b[0;34m\u001b[0m\u001b[0m\n\u001b[0;32m--> 855\u001b[0;31m             \u001b[0mself\u001b[0m\u001b[0;34m.\u001b[0m\u001b[0mwait\u001b[0m\u001b[0;34m(\u001b[0m\u001b[0;34m)\u001b[0m\u001b[0;34m\u001b[0m\u001b[0;34m\u001b[0m\u001b[0m\n\u001b[0m\u001b[1;32m    856\u001b[0m         \u001b[0;32melse\u001b[0m\u001b[0;34m:\u001b[0m\u001b[0;34m\u001b[0m\u001b[0;34m\u001b[0m\u001b[0m\n\u001b[1;32m    857\u001b[0m             \u001b[0;32mif\u001b[0m \u001b[0mtimeout\u001b[0m \u001b[0;32mis\u001b[0m \u001b[0;32mnot\u001b[0m \u001b[0;32mNone\u001b[0m\u001b[0;34m:\u001b[0m\u001b[0;34m\u001b[0m\u001b[0;34m\u001b[0m\u001b[0m\n",
      "\u001b[0;32m/usr/lib/python3.6/subprocess.py\u001b[0m in \u001b[0;36mwait\u001b[0;34m(self, timeout, endtime)\u001b[0m\n\u001b[1;32m   1475\u001b[0m                         \u001b[0;32mif\u001b[0m \u001b[0mself\u001b[0m\u001b[0;34m.\u001b[0m\u001b[0mreturncode\u001b[0m \u001b[0;32mis\u001b[0m \u001b[0;32mnot\u001b[0m \u001b[0;32mNone\u001b[0m\u001b[0;34m:\u001b[0m\u001b[0;34m\u001b[0m\u001b[0;34m\u001b[0m\u001b[0m\n\u001b[1;32m   1476\u001b[0m                             \u001b[0;32mbreak\u001b[0m  \u001b[0;31m# Another thread waited.\u001b[0m\u001b[0;34m\u001b[0m\u001b[0;34m\u001b[0m\u001b[0m\n\u001b[0;32m-> 1477\u001b[0;31m                         \u001b[0;34m(\u001b[0m\u001b[0mpid\u001b[0m\u001b[0;34m,\u001b[0m \u001b[0msts\u001b[0m\u001b[0;34m)\u001b[0m \u001b[0;34m=\u001b[0m \u001b[0mself\u001b[0m\u001b[0;34m.\u001b[0m\u001b[0m_try_wait\u001b[0m\u001b[0;34m(\u001b[0m\u001b[0;36m0\u001b[0m\u001b[0;34m)\u001b[0m\u001b[0;34m\u001b[0m\u001b[0;34m\u001b[0m\u001b[0m\n\u001b[0m\u001b[1;32m   1478\u001b[0m                         \u001b[0;31m# Check the pid and loop as waitpid has been known to\u001b[0m\u001b[0;34m\u001b[0m\u001b[0;34m\u001b[0m\u001b[0;34m\u001b[0m\u001b[0m\n\u001b[1;32m   1479\u001b[0m                         \u001b[0;31m# return 0 even without WNOHANG in odd situations.\u001b[0m\u001b[0;34m\u001b[0m\u001b[0;34m\u001b[0m\u001b[0;34m\u001b[0m\u001b[0m\n",
      "\u001b[0;32m/usr/lib/python3.6/subprocess.py\u001b[0m in \u001b[0;36m_try_wait\u001b[0;34m(self, wait_flags)\u001b[0m\n\u001b[1;32m   1422\u001b[0m             \u001b[0;34m\"\"\"All callers to this function MUST hold self._waitpid_lock.\"\"\"\u001b[0m\u001b[0;34m\u001b[0m\u001b[0;34m\u001b[0m\u001b[0m\n\u001b[1;32m   1423\u001b[0m             \u001b[0;32mtry\u001b[0m\u001b[0;34m:\u001b[0m\u001b[0;34m\u001b[0m\u001b[0;34m\u001b[0m\u001b[0m\n\u001b[0;32m-> 1424\u001b[0;31m                 \u001b[0;34m(\u001b[0m\u001b[0mpid\u001b[0m\u001b[0;34m,\u001b[0m \u001b[0msts\u001b[0m\u001b[0;34m)\u001b[0m \u001b[0;34m=\u001b[0m \u001b[0mos\u001b[0m\u001b[0;34m.\u001b[0m\u001b[0mwaitpid\u001b[0m\u001b[0;34m(\u001b[0m\u001b[0mself\u001b[0m\u001b[0;34m.\u001b[0m\u001b[0mpid\u001b[0m\u001b[0;34m,\u001b[0m \u001b[0mwait_flags\u001b[0m\u001b[0;34m)\u001b[0m\u001b[0;34m\u001b[0m\u001b[0;34m\u001b[0m\u001b[0m\n\u001b[0m\u001b[1;32m   1425\u001b[0m             \u001b[0;32mexcept\u001b[0m \u001b[0mChildProcessError\u001b[0m\u001b[0;34m:\u001b[0m\u001b[0;34m\u001b[0m\u001b[0;34m\u001b[0m\u001b[0m\n\u001b[1;32m   1426\u001b[0m                 \u001b[0;31m# This happens if SIGCLD is set to be ignored or waiting\u001b[0m\u001b[0;34m\u001b[0m\u001b[0;34m\u001b[0m\u001b[0;34m\u001b[0m\u001b[0m\n",
      "\u001b[0;31mKeyboardInterrupt\u001b[0m: "
     ]
    }
   ],
   "source": [
    "files = os.listdir('7sat90.train/')\n",
    "\n",
    "resfn7 = []\n",
    "resw7 = []\n",
    "resk7 = []\n",
    "\n",
    "for i in range(20):\n",
    "    fn = files[randint(0, len(files))]\n",
    "    resfn7.append(fn)\n",
    "    fn = '7sat90.train/' + fn\n",
    "    print(fn)\n",
    "    start = time.time()\n",
    "    subprocess.run([kissat, '-q', fn])\n",
    "    resk7.append(time.time() - start)\n",
    "    print('kissat', time.time() - start)\n",
    "    start = time.time()\n",
    "    subprocess.run([walksat, fn])\n",
    "    resw7.append(time.time() - start)\n",
    "    print('walksat', time.time() - start)\n",
    "    \n",
    "\n",
    "print(resfn7)\n",
    "print(resw7)\n",
    "print(resk7)"
   ]
  },
  {
   "cell_type": "code",
   "execution_count": 3,
   "metadata": {},
   "outputs": [
    {
     "ename": "NameError",
     "evalue": "name 'plt' is not defined",
     "output_type": "error",
     "traceback": [
      "\u001b[0;31m---------------------------------------------------------------------------\u001b[0m",
      "\u001b[0;31mNameError\u001b[0m                                 Traceback (most recent call last)",
      "\u001b[0;32m<ipython-input-3-2a8674a0622a>\u001b[0m in \u001b[0;36m<module>\u001b[0;34m()\u001b[0m\n\u001b[1;32m      3\u001b[0m \u001b[0mresk\u001b[0m \u001b[0;34m=\u001b[0m \u001b[0;34m[\u001b[0m\u001b[0;36m897.8827826976776\u001b[0m\u001b[0;34m,\u001b[0m \u001b[0;36m425.0541744232178\u001b[0m\u001b[0;34m,\u001b[0m \u001b[0;36m671.1606485843658\u001b[0m\u001b[0;34m]\u001b[0m\u001b[0;34m\u001b[0m\u001b[0;34m\u001b[0m\u001b[0m\n\u001b[1;32m      4\u001b[0m \u001b[0;34m\u001b[0m\u001b[0m\n\u001b[0;32m----> 5\u001b[0;31m \u001b[0mplt\u001b[0m\u001b[0;34m.\u001b[0m\u001b[0mfigure\u001b[0m\u001b[0;34m(\u001b[0m\u001b[0mfigsize\u001b[0m\u001b[0;34m=\u001b[0m\u001b[0;34m(\u001b[0m\u001b[0;36m6\u001b[0m\u001b[0;34m,\u001b[0m\u001b[0;36m6\u001b[0m\u001b[0;34m)\u001b[0m\u001b[0;34m)\u001b[0m\u001b[0;34m\u001b[0m\u001b[0;34m\u001b[0m\u001b[0m\n\u001b[0m\u001b[1;32m      6\u001b[0m \u001b[0mplt\u001b[0m\u001b[0;34m.\u001b[0m\u001b[0mplot\u001b[0m\u001b[0;34m(\u001b[0m\u001b[0mnewresfn\u001b[0m\u001b[0;34m,\u001b[0m \u001b[0mresw\u001b[0m\u001b[0;34m,\u001b[0m \u001b[0;34m'ro'\u001b[0m\u001b[0;34m,\u001b[0m \u001b[0mlabel\u001b[0m\u001b[0;34m=\u001b[0m\u001b[0;34m'walksat'\u001b[0m\u001b[0;34m)\u001b[0m\u001b[0;34m\u001b[0m\u001b[0;34m\u001b[0m\u001b[0m\n\u001b[1;32m      7\u001b[0m \u001b[0mplt\u001b[0m\u001b[0;34m.\u001b[0m\u001b[0mplot\u001b[0m\u001b[0;34m(\u001b[0m\u001b[0mnewresfn\u001b[0m\u001b[0;34m,\u001b[0m \u001b[0mresk\u001b[0m\u001b[0;34m,\u001b[0m \u001b[0;34m'bo'\u001b[0m\u001b[0;34m,\u001b[0m \u001b[0mlabel\u001b[0m\u001b[0;34m=\u001b[0m\u001b[0;34m'kissat'\u001b[0m\u001b[0;34m)\u001b[0m\u001b[0;34m\u001b[0m\u001b[0;34m\u001b[0m\u001b[0m\n",
      "\u001b[0;31mNameError\u001b[0m: name 'plt' is not defined"
     ]
    }
   ],
   "source": [
    "newresfn = ['S762508664', 'S412788252', 'S1797569780']\n",
    "resw = [420.3029170036316, 1495.8137156963348, 496.72864151000977]\n",
    "resk = [897.8827826976776, 425.0541744232178, 671.1606485843658]\n",
    "\n",
    "plt.figure(figsize=(6,6))\n",
    "plt.plot(newresfn, resw, 'ro', label='walksat')\n",
    "plt.plot(newresfn, resk, 'bo', label='kissat')\n",
    "plt.xticks(rotation=90)\n",
    "plt.legend(prop={'size': 10})\n",
    "plt.title('Elapsed time(s) at each 7SAT-90 instance')\n",
    "plt.show()"
   ]
  },
  {
   "cell_type": "code",
   "execution_count": 12,
   "metadata": {},
   "outputs": [
    {
     "name": "stdout",
     "output_type": "stream",
     "text": [
      "['n_queens4_sort.dimacs', 'sudoku_6_3_2.dimacs', 'sudoku_6_2_3.dimacs', 'sudoku_9_3_3.dimacs', 'n_queens8.dimacs', 'n_queens16.dimacs', 'n_queens32.dimacs', 'sudoku_4_2_2.dimacs', 'n_queens4.dimacs', 'n_queens32_sort.dimacs']\n",
      "[0.1091318130493164, 0.3689603805541992, 0.3680880069732666, 1.3657584190368652, 0.31619906425476074, 1.1940796375274658, 6.3920958042144775, 0.13627266883850098, 0.09370303153991699, 6.363267183303833]\n",
      "[0.07523775100708008, 0.07682609558105469, 0.09396195411682129, 0.14680981636047363, 0.0776071548461914, 0.2873404026031494, 2.8866872787475586, 0.07695984840393066, 0.07144880294799805, 2.9348301887512207]\n"
     ]
    }
   ],
   "source": [
    "files = os.listdir('./WalkSATImpl/test')\n",
    "\n",
    "resfn = []\n",
    "resw = [0.0 for i in files]\n",
    "resk = [0.0 for i in files]\n",
    "\n",
    "for i, fn in enumerate(files):\n",
    "    #fn = files[randint(0, len(files))]\n",
    "    resfn.append(fn)\n",
    "\n",
    "for c in range(50):\n",
    "    for i, fn in enumerate(files):\n",
    "        #fn = files[randint(0, len(files))]\n",
    "        #resfn.append(fn)\n",
    "        fn = 'WalkSATImpl/test/' + fn\n",
    "        #print(fn)\n",
    "        start = time.time()\n",
    "        subprocess.run([kissat, '-q', fn])\n",
    "        resk[i] = resk[i] + (time.time() - start)\n",
    "        #print('kissat', time.time() - start)\n",
    "        start = time.time()\n",
    "        subprocess.run([walksat, fn])\n",
    "        resw[i] = resw[i] + (time.time() - start)\n",
    "        #print('walksat', time.time() - start)\n",
    "    \n",
    "\n",
    "print(resfn)\n",
    "print(resw)\n",
    "print(resk)"
   ]
  },
  {
   "cell_type": "code",
   "execution_count": 17,
   "metadata": {},
   "outputs": [
    {
     "name": "stdout",
     "output_type": "stream",
     "text": [
      "[0.00218264 0.00737921 0.00736176 0.02731517 0.00632398 0.02388159\n",
      " 0.12784192 0.00272545 0.00187406 0.12726534]\n",
      "[0.00150476 0.00153652 0.00187924 0.0029362  0.00155214 0.00574681\n",
      " 0.05773375 0.0015392  0.00142898 0.0586966 ]\n"
     ]
    },
    {
     "data": {
      "image/png": "[encoded data removed]",
      "text/plain": [
       "<Figure size 432x432 with 1 Axes>"
      ]
     },
     "metadata": {},
     "output_type": "display_data"
    }
   ],
   "source": [
    "import numpy as np\n",
    "# resfn = ['n_queens4_sort.dimacs', 'sudoku_6_3_2.dimacs', 'sudoku_6_2_3.dimacs', 'sudoku_9_3_3.dimacs', 'n_queens8.dimacs', 'n_queens16.dimacs', 'n_queens32.dimacs', 'sudoku_4_2_2.dimacs', 'n_queens4.dimacs', 'n_queens32_sort.dimacs']\n",
    "# resw = [0.0034940242767333984, 0.008691072463989258, 0.0068361759185791016, 0.036875009536743164, 0.008630514144897461, 0.021772384643554688, 0.11283993721008301, 0.004688739776611328, 0.0040264129638671875, 0.15509986877441406]\n",
    "# resk = [0.004467964172363281, 0.003353118896484375, 0.003354310989379883, 0.004721641540527344, 0.003175973892211914, 0.008111953735351562, 0.05794072151184082, 0.0012965202331542969, 0.0035445690155029297, 0.06085538864135742]\n",
    "rresw = np.array(resw) / 50\n",
    "rresk = np.array(resk) / 50\n",
    "\n",
    "print(rresw)\n",
    "print(rresk)\n",
    "\n",
    "newresfn = []\n",
    "for i in resfn:\n",
    "    newresfn.append(i[0:-7])\n",
    "\n",
    "plt.figure(figsize=(6,6))\n",
    "plt.plot(newresfn, rresw, 'ro', label='walksat')\n",
    "plt.plot(newresfn, rresk, 'bo', label='kissat')\n",
    "plt.xticks(rotation=90)\n",
    "plt.legend(prop={'size': 10})\n",
    "plt.title('Elapsed time(s) at each nqeens&sudoku instance')\n",
    "plt.show()"
   ]
  }
 ],
 "metadata": {
  "kernelspec": {
   "display_name": "Python 3",
   "language": "python",
   "name": "python3"
  },
  "language_info": {
   "codemirror_mode": {
    "name": "ipython",
    "version": 3
   },
   "file_extension": ".py",
   "mimetype": "text/x-python",
   "name": "python",
   "nbconvert_exporter": "python",
   "pygments_lexer": "ipython3",
   "version": "3.6.9"
  }
 },
 "nbformat": 4,
 "nbformat_minor": 2
}
